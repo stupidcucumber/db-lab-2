{
 "cells": [
  {
   "cell_type": "code",
   "execution_count": 2,
   "metadata": {},
   "outputs": [],
   "source": [
    "import requests\n",
    "import time\n",
    "import numpy as np\n",
    "import json"
   ]
  },
  {
   "cell_type": "markdown",
   "metadata": {},
   "source": [
    "# Utils for timing"
   ]
  },
  {
   "cell_type": "code",
   "execution_count": 23,
   "metadata": {},
   "outputs": [],
   "source": [
    "def average_duration(request: str, data_gen=str, method:str='GET', iterations: int=30000):\n",
    "    '''\n",
    "        Returns duration of the requests in s.\n",
    "    '''\n",
    "\n",
    "    if method == 'GET':\n",
    "        rec_function = requests.get\n",
    "    elif method == 'POST':\n",
    "        rec_function = requests.post\n",
    "    else:\n",
    "        raise ValueError('Method has not been recognized!')\n",
    "    \n",
    "    durations = []\n",
    "    for _ in range(iterations):\n",
    "        start = time.time()\n",
    "        rec_function(url=request, data=next(data_gen), headers={'Content-type': 'application/json'})\n",
    "        end = time.time()\n",
    "\n",
    "        durations.append(end - start)\n",
    "\n",
    "    print('On average request takes: ', np.mean(durations))\n",
    "\n",
    "\n",
    "def average_duration_alteration(request: str, extraction_request: str, method:str='PATCH', iterations: int=30000):\n",
    "    '''\n",
    "        Funtion for testing UPDATE, DELETE\n",
    "    '''\n",
    "\n",
    "    if method == 'PATCH':\n",
    "        action = requests.patch\n",
    "    elif method == 'DELETE':\n",
    "        action = requests.delete\n",
    "    else:\n",
    "        raise ValueError('This method is not recognized!')\n",
    "\n",
    "    extracted_data = requests.get(url=extraction_request)\n",
    "    entries = json.loads(extracted_data.content)\n",
    "\n",
    "    ids = [entry['telegram_id'] for entry in entries]\n",
    "    durations = []\n",
    "\n",
    "    for _ in range(iterations):\n",
    "        for id in ids:\n",
    "            start = time.time()\n",
    "            action(\n",
    "                url=request + str(id)\n",
    "            )\n",
    "            end = time.time()\n",
    "\n",
    "            durations.append(end - start)\n",
    "\n",
    "    print('On average request takes: ', np.mean(durations))\n",
    "\n",
    "\n",
    "def generate_user(num: int):\n",
    "    start = 9281497\n",
    "\n",
    "    for i in range(num):\n",
    "        data = json.dumps({\n",
    "            'telegram_id' : start + i,\n",
    "            'username': 'varenik',\n",
    "            'about': '''On Unix, return the current processor time as a floating point number expressed in seconds. The precision, and in fact the very definition of the meaning of “processor time”, depends on that of the C function of the same name. On Windows, this function returns wall-clock seconds elapsed since the first call to this function, as a floating point number, based on the Win32 function QueryPerformanceCounter(). The resolution is typically better than one microsecond.'''\n",
    "        })\n",
    "\n",
    "        yield data\n",
    "\n",
    "\n",
    "def generate_empty(num: int):\n",
    "    for _ in range(num):\n",
    "        yield json.dumps({})"
   ]
  },
  {
   "cell_type": "markdown",
   "metadata": {},
   "source": [
    "# Tests of NoSQL: MongoDB"
   ]
  },
  {
   "cell_type": "markdown",
   "metadata": {},
   "source": [
    "## Insert"
   ]
  },
  {
   "cell_type": "code",
   "execution_count": null,
   "metadata": {},
   "outputs": [],
   "source": [
    "request = 'http://localhost:5052/users/insert'\n",
    "iteration_num = 30000\n",
    "\n",
    "average_duration(request=request, data_gen=generate_user(iteration_num), method='POST', iterations=iteration_num)"
   ]
  },
  {
   "cell_type": "markdown",
   "metadata": {},
   "source": [
    "## Extract"
   ]
  },
  {
   "cell_type": "code",
   "execution_count": 7,
   "metadata": {},
   "outputs": [
    {
     "name": "stdout",
     "output_type": "stream",
     "text": [
      "On average request takes:  0.0019246681531270345\n"
     ]
    }
   ],
   "source": [
    "request = 'http://localhost:5052/users'\n",
    "iteration_num = 300\n",
    "\n",
    "average_duration(request=request, data_gen=generate_empty(iteration_num), method='POST', iterations=iteration_num)"
   ]
  },
  {
   "cell_type": "markdown",
   "metadata": {},
   "source": [
    "## Update"
   ]
  },
  {
   "cell_type": "code",
   "execution_count": 25,
   "metadata": {},
   "outputs": [
    {
     "name": "stdout",
     "output_type": "stream",
     "text": [
      "On average request takes:  0.0027388036251068115\n"
     ]
    }
   ],
   "source": [
    "request = 'http://localhost:5052/users/patch/'\n",
    "extraction = 'http://localhost:5052/users'\n",
    "iteration_num = 10\n",
    "\n",
    "average_duration_alteration(request=request, extraction_request=extraction, method='PATCH', iterations=iteration_num)"
   ]
  },
  {
   "cell_type": "markdown",
   "metadata": {},
   "source": [
    "## Delete"
   ]
  },
  {
   "cell_type": "code",
   "execution_count": null,
   "metadata": {},
   "outputs": [],
   "source": [
    "request = 'http://localhost:5052/users/delete/'\n",
    "extraction = 'http://localhost:5052/users'\n",
    "iteration_num = 10\n",
    "\n",
    "average_duration_alteration(request=request, extraction_request=extraction, method='DELETE', iterations=iteration_num)"
   ]
  },
  {
   "cell_type": "markdown",
   "metadata": {},
   "source": [
    "# Tests of SQL: PostgreSQL"
   ]
  },
  {
   "cell_type": "markdown",
   "metadata": {},
   "source": [
    "## Insert"
   ]
  },
  {
   "cell_type": "code",
   "execution_count": 23,
   "metadata": {},
   "outputs": [
    {
     "name": "stdout",
     "output_type": "stream",
     "text": [
      "On average request takes:  0.003915661104520162\n"
     ]
    }
   ],
   "source": [
    "request = 'http://localhost:5051/users/insert'\n",
    "requests_num = 30000\n",
    "\n",
    "average_duration(request=request, data_gen=iter(generate_user(requests_num)), method='POST', iterations=requests_num)"
   ]
  },
  {
   "cell_type": "markdown",
   "metadata": {},
   "source": [
    "## Extract"
   ]
  },
  {
   "cell_type": "code",
   "execution_count": 27,
   "metadata": {},
   "outputs": [
    {
     "name": "stdout",
     "output_type": "stream",
     "text": [
      "On average request takes:  0.15078813552856446\n"
     ]
    }
   ],
   "source": [
    "request = 'http://localhost:5051/users'\n",
    "requests_num = 300\n",
    "\n",
    "average_duration(request=request, data_gen=iter(generate_empty(requests_num)), method='GET', iterations=requests_num)"
   ]
  },
  {
   "cell_type": "markdown",
   "metadata": {},
   "source": [
    "## Update"
   ]
  },
  {
   "cell_type": "code",
   "execution_count": null,
   "metadata": {},
   "outputs": [],
   "source": []
  },
  {
   "cell_type": "markdown",
   "metadata": {},
   "source": [
    "## Delete"
   ]
  },
  {
   "cell_type": "code",
   "execution_count": null,
   "metadata": {},
   "outputs": [],
   "source": []
  },
  {
   "cell_type": "markdown",
   "metadata": {},
   "source": [
    "# Results"
   ]
  },
  {
   "cell_type": "markdown",
   "metadata": {},
   "source": []
  }
 ],
 "metadata": {
  "kernelspec": {
   "display_name": "Python 3",
   "language": "python",
   "name": "python3"
  },
  "language_info": {
   "codemirror_mode": {
    "name": "ipython",
    "version": 3
   },
   "file_extension": ".py",
   "mimetype": "text/x-python",
   "name": "python",
   "nbconvert_exporter": "python",
   "pygments_lexer": "ipython3",
   "version": "3.11.6"
  }
 },
 "nbformat": 4,
 "nbformat_minor": 2
}
