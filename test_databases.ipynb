{
 "cells": [
  {
   "cell_type": "code",
   "execution_count": 14,
   "metadata": {},
   "outputs": [],
   "source": [
    "import requests\n",
    "import time\n",
    "import numpy as np\n",
    "import json"
   ]
  },
  {
   "cell_type": "markdown",
   "metadata": {},
   "source": [
    "# Utils for timing"
   ]
  },
  {
   "cell_type": "code",
   "execution_count": 12,
   "metadata": {},
   "outputs": [
    {
     "data": {
      "text/plain": [
       "1701553203.558945"
      ]
     },
     "execution_count": 12,
     "metadata": {},
     "output_type": "execute_result"
    }
   ],
   "source": [
    "time.time()"
   ]
  },
  {
   "cell_type": "code",
   "execution_count": 21,
   "metadata": {},
   "outputs": [],
   "source": [
    "def average_duration(request: str, data_gen=str, method:str='GET', iterations: int=30000) -> float:\n",
    "    '''\n",
    "        Returns duration of the requests in s.\n",
    "    '''\n",
    "\n",
    "    if method == 'GET':\n",
    "        rec_function = requests.get\n",
    "    elif method == 'POST':\n",
    "        rec_function = requests.post\n",
    "    elif method == 'DELETE':\n",
    "        rec_function = requests.delete\n",
    "    elif method == 'UPDATE':\n",
    "        rec_function = requests.patch\n",
    "    else:\n",
    "        raise ValueError('Method has not been recognized!')\n",
    "    \n",
    "    durations = []\n",
    "    for _ in range(iterations):\n",
    "        start = time.time()\n",
    "        rec_function(url=request, data=next(data_gen), headers={'Content-type': 'application/json'})\n",
    "        end = time.time()\n",
    "\n",
    "        durations.append(end - start)\n",
    "\n",
    "    print('On average request takes: ', np.mean(durations))"
   ]
  },
  {
   "cell_type": "markdown",
   "metadata": {},
   "source": [
    "# Tests of NoSQL: MongoDB"
   ]
  },
  {
   "cell_type": "markdown",
   "metadata": {},
   "source": [
    "# Tests of SQL: PostgreSQL"
   ]
  },
  {
   "cell_type": "markdown",
   "metadata": {},
   "source": [
    "## Insert"
   ]
  },
  {
   "cell_type": "code",
   "execution_count": 22,
   "metadata": {},
   "outputs": [],
   "source": [
    "request = 'http://localhost:5051/users/insert'\n",
    "\n",
    "def generate_user(num: int):\n",
    "    start = 9281497\n",
    "\n",
    "    for i in range(num):\n",
    "        data = json.dumps({\n",
    "            'telegram_id' : start + i,\n",
    "            'username': 'varenik',\n",
    "            'about': '''On Unix, return the current processor time as a floating point number expressed in seconds. The precision, and in fact the very definition of the meaning of “processor time”, depends on that of the C function of the same name. On Windows, this function returns wall-clock seconds elapsed since the first call to this function, as a floating point number, based on the Win32 function QueryPerformanceCounter(). The resolution is typically better than one microsecond.'''\n",
    "        })\n",
    "\n",
    "        yield data"
   ]
  },
  {
   "cell_type": "code",
   "execution_count": 23,
   "metadata": {},
   "outputs": [
    {
     "name": "stdout",
     "output_type": "stream",
     "text": [
      "On average request takes:  0.003915661104520162\n"
     ]
    }
   ],
   "source": [
    "requests_num = 30000\n",
    "\n",
    "average_duration(request=request, data_gen=iter(generate_user(requests_num)), method='POST', iterations=requests_num)"
   ]
  },
  {
   "cell_type": "markdown",
   "metadata": {},
   "source": [
    "## Extract"
   ]
  },
  {
   "cell_type": "code",
   "execution_count": 26,
   "metadata": {},
   "outputs": [],
   "source": [
    "request = 'http://localhost:5051/users'\n",
    "\n",
    "def generate_empty(num: int):\n",
    "    for _ in range(num):\n",
    "        yield json.dumps({})"
   ]
  },
  {
   "cell_type": "code",
   "execution_count": 27,
   "metadata": {},
   "outputs": [
    {
     "name": "stdout",
     "output_type": "stream",
     "text": [
      "On average request takes:  0.15078813552856446\n"
     ]
    }
   ],
   "source": [
    "requests_num = 300\n",
    "\n",
    "average_duration(request=request, data_gen=iter(generate_empty(requests_num)), method='GET', iterations=requests_num)"
   ]
  },
  {
   "cell_type": "markdown",
   "metadata": {},
   "source": [
    "## Update"
   ]
  },
  {
   "cell_type": "markdown",
   "metadata": {},
   "source": [
    "## Delete"
   ]
  },
  {
   "cell_type": "markdown",
   "metadata": {},
   "source": []
  }
 ],
 "metadata": {
  "kernelspec": {
   "display_name": "Python 3",
   "language": "python",
   "name": "python3"
  },
  "language_info": {
   "codemirror_mode": {
    "name": "ipython",
    "version": 3
   },
   "file_extension": ".py",
   "mimetype": "text/x-python",
   "name": "python",
   "nbconvert_exporter": "python",
   "pygments_lexer": "ipython3",
   "version": "3.11.6"
  }
 },
 "nbformat": 4,
 "nbformat_minor": 2
}
