{
 "cells": [
  {
   "cell_type": "code",
   "execution_count": 5,
   "metadata": {},
   "outputs": [],
   "source": [
    "import requests\n",
    "import time\n",
    "import numpy as np\n",
    "import json"
   ]
  },
  {
   "cell_type": "markdown",
   "metadata": {},
   "source": [
    "# Utils for timing"
   ]
  },
  {
   "cell_type": "code",
   "execution_count": 73,
   "metadata": {},
   "outputs": [],
   "source": [
    "def average_duration(request: str, data_gen=str, method:str='GET', iterations: int=30000):\n",
    "    '''\n",
    "        Returns duration of the requests in s.\n",
    "    '''\n",
    "\n",
    "    if method == 'GET':\n",
    "        rec_function = requests.get\n",
    "    elif method == 'POST':\n",
    "        rec_function = requests.post\n",
    "    else:\n",
    "        raise ValueError('Method has not been recognized!')\n",
    "    \n",
    "    durations = []\n",
    "    for _ in range(iterations):\n",
    "        start = time.time()\n",
    "        rec_function(url=request, data=next(data_gen), headers={'Content-type': 'application/json'})\n",
    "        end = time.time()\n",
    "\n",
    "        durations.append(end - start)\n",
    "\n",
    "    print('On average request takes: ', np.mean(durations))\n",
    "\n",
    "\n",
    "def average_duration_alteration(request: str, extraction_request: str, method:str='PATCH', iterations: int=30000):\n",
    "    '''\n",
    "        Funtion for testing UPDATE, DELETE\n",
    "    '''\n",
    "\n",
    "    if method == 'PATCH':\n",
    "        action = requests.patch\n",
    "    elif method == 'DELETE':\n",
    "        action = requests.delete\n",
    "    else:\n",
    "        raise ValueError('This method is not recognized!')\n",
    "\n",
    "    extracted_data = requests.get(url=extraction_request) \n",
    "    entries = extracted_data.json()\n",
    "\n",
    "    ids = [entry[0] if type(entry) == list else entry['telegram_id'] for entry in entries]\n",
    "    durations = []\n",
    "\n",
    "    for _ in range(iterations):\n",
    "        for id in ids:\n",
    "            start = time.time()\n",
    "            action(\n",
    "                url=request + str(id)\n",
    "            )\n",
    "            end = time.time()\n",
    "\n",
    "            durations.append(end - start)\n",
    "\n",
    "    print('On average request takes: ', np.mean(durations))\n",
    "\n",
    "\n",
    "def generate_user(num: int):\n",
    "    start = 9281497\n",
    "\n",
    "    for i in range(num):\n",
    "        data = json.dumps({\n",
    "            'telegram_id' : start + i,\n",
    "            'username': 'varenik',\n",
    "            'about': '''On Unix, return the current processor time as a floating point number expressed in seconds. The precision, and in fact the very definition of the meaning of “processor time”, depends on that of the C function of the same name. On Windows, this function returns wall-clock seconds elapsed since the first call to this function, as a floating point number, based on the Win32 function QueryPerformanceCounter(). The resolution is typically better than one microsecond.'''\n",
    "        })\n",
    "\n",
    "        yield data\n",
    "\n",
    "\n",
    "def generate_empty(num: int):\n",
    "    for _ in range(num):\n",
    "        yield json.dumps({})"
   ]
  },
  {
   "cell_type": "markdown",
   "metadata": {},
   "source": [
    "# Tests of NoSQL: MongoDB"
   ]
  },
  {
   "cell_type": "markdown",
   "metadata": {},
   "source": [
    "## Insert"
   ]
  },
  {
   "cell_type": "code",
   "execution_count": 28,
   "metadata": {},
   "outputs": [
    {
     "name": "stdout",
     "output_type": "stream",
     "text": [
      "On average request takes:  0.002793078422546387\n"
     ]
    }
   ],
   "source": [
    "request = 'http://localhost:5052/users/insert'\n",
    "iteration_num = 100\n",
    "\n",
    "average_duration(request=request, data_gen=generate_user(iteration_num), method='POST', iterations=iteration_num)"
   ]
  },
  {
   "cell_type": "markdown",
   "metadata": {},
   "source": [
    "## Extract"
   ]
  },
  {
   "cell_type": "code",
   "execution_count": 29,
   "metadata": {},
   "outputs": [
    {
     "name": "stdout",
     "output_type": "stream",
     "text": [
      "On average request takes:  0.003718862533569336\n"
     ]
    }
   ],
   "source": [
    "request = 'http://localhost:5052/users'\n",
    "iteration_num = 100\n",
    "\n",
    "average_duration(request=request, data_gen=generate_empty(iteration_num), method='GET', iterations=iteration_num)"
   ]
  },
  {
   "cell_type": "markdown",
   "metadata": {},
   "source": [
    "## Update"
   ]
  },
  {
   "cell_type": "code",
   "execution_count": 30,
   "metadata": {},
   "outputs": [
    {
     "name": "stdout",
     "output_type": "stream",
     "text": [
      "[{'_id': '656ccd2e3969c6770b280357', 'about': 'On Unix, return the current processor time as a floating point number expressed in seconds. The precision, and in fact the very definition of the meaning of “processor time”, depends on that of the C function of the same name. On Windows, this function returns wall-clock seconds elapsed since the first call to this function, as a floating point number, based on the Win32 function QueryPerformanceCounter(). The resolution is typically better than one microsecond.', 'telegram_id': 9281497, 'username': 'varenik'}, {'_id': '656ccd2e3969c6770b280358', 'about': 'On Unix, return the current processor time as a floating point number expressed in seconds. The precision, and in fact the very definition of the meaning of “processor time”, depends on that of the C function of the same name. On Windows, this function returns wall-clock seconds elapsed since the first call to this function, as a floating point number, based on the Win32 function QueryPerformanceCounter(). The resolution is typically better than one microsecond.', 'telegram_id': 9281498, 'username': 'varenik'}, {'_id': '656ccd2e3969c6770b280359', 'about': 'On Unix, return the current processor time as a floating point number expressed in seconds. The precision, and in fact the very definition of the meaning of “processor time”, depends on that of the C function of the same name. On Windows, this function returns wall-clock seconds elapsed since the first call to this function, as a floating point number, based on the Win32 function QueryPerformanceCounter(). The resolution is typically better than one microsecond.', 'telegram_id': 9281499, 'username': 'varenik'}, {'_id': '656ccd2e3969c6770b28035a', 'about': 'On Unix, return the current processor time as a floating point number expressed in seconds. The precision, and in fact the very definition of the meaning of “processor time”, depends on that of the C function of the same name. On Windows, this function returns wall-clock seconds elapsed since the first call to this function, as a floating point number, based on the Win32 function QueryPerformanceCounter(). The resolution is typically better than one microsecond.', 'telegram_id': 9281500, 'username': 'varenik'}, {'_id': '656ccd2e3969c6770b28035b', 'about': 'On Unix, return the current processor time as a floating point number expressed in seconds. The precision, and in fact the very definition of the meaning of “processor time”, depends on that of the C function of the same name. On Windows, this function returns wall-clock seconds elapsed since the first call to this function, as a floating point number, based on the Win32 function QueryPerformanceCounter(). The resolution is typically better than one microsecond.', 'telegram_id': 9281501, 'username': 'varenik'}, {'_id': '656ccd2e3969c6770b28035c', 'about': 'On Unix, return the current processor time as a floating point number expressed in seconds. The precision, and in fact the very definition of the meaning of “processor time”, depends on that of the C function of the same name. On Windows, this function returns wall-clock seconds elapsed since the first call to this function, as a floating point number, based on the Win32 function QueryPerformanceCounter(). The resolution is typically better than one microsecond.', 'telegram_id': 9281502, 'username': 'varenik'}, {'_id': '656ccd2e3969c6770b28035d', 'about': 'On Unix, return the current processor time as a floating point number expressed in seconds. The precision, and in fact the very definition of the meaning of “processor time”, depends on that of the C function of the same name. On Windows, this function returns wall-clock seconds elapsed since the first call to this function, as a floating point number, based on the Win32 function QueryPerformanceCounter(). The resolution is typically better than one microsecond.', 'telegram_id': 9281503, 'username': 'varenik'}, {'_id': '656ccd2e3969c6770b28035e', 'about': 'On Unix, return the current processor time as a floating point number expressed in seconds. The precision, and in fact the very definition of the meaning of “processor time”, depends on that of the C function of the same name. On Windows, this function returns wall-clock seconds elapsed since the first call to this function, as a floating point number, based on the Win32 function QueryPerformanceCounter(). The resolution is typically better than one microsecond.', 'telegram_id': 9281504, 'username': 'varenik'}, {'_id': '656ccd2e3969c6770b28035f', 'about': 'On Unix, return the current processor time as a floating point number expressed in seconds. The precision, and in fact the very definition of the meaning of “processor time”, depends on that of the C function of the same name. On Windows, this function returns wall-clock seconds elapsed since the first call to this function, as a floating point number, based on the Win32 function QueryPerformanceCounter(). The resolution is typically better than one microsecond.', 'telegram_id': 9281505, 'username': 'varenik'}, {'_id': '656ccd2e3969c6770b280360', 'about': 'On Unix, return the current processor time as a floating point number expressed in seconds. The precision, and in fact the very definition of the meaning of “processor time”, depends on that of the C function of the same name. On Windows, this function returns wall-clock seconds elapsed since the first call to this function, as a floating point number, based on the Win32 function QueryPerformanceCounter(). The resolution is typically better than one microsecond.', 'telegram_id': 9281506, 'username': 'varenik'}, {'_id': '656ccd2e3969c6770b280361', 'about': 'On Unix, return the current processor time as a floating point number expressed in seconds. The precision, and in fact the very definition of the meaning of “processor time”, depends on that of the C function of the same name. On Windows, this function returns wall-clock seconds elapsed since the first call to this function, as a floating point number, based on the Win32 function QueryPerformanceCounter(). The resolution is typically better than one microsecond.', 'telegram_id': 9281507, 'username': 'varenik'}, {'_id': '656ccd2e3969c6770b280362', 'about': 'On Unix, return the current processor time as a floating point number expressed in seconds. The precision, and in fact the very definition of the meaning of “processor time”, depends on that of the C function of the same name. On Windows, this function returns wall-clock seconds elapsed since the first call to this function, as a floating point number, based on the Win32 function QueryPerformanceCounter(). The resolution is typically better than one microsecond.', 'telegram_id': 9281508, 'username': 'varenik'}, {'_id': '656ccd2e3969c6770b280363', 'about': 'On Unix, return the current processor time as a floating point number expressed in seconds. The precision, and in fact the very definition of the meaning of “processor time”, depends on that of the C function of the same name. On Windows, this function returns wall-clock seconds elapsed since the first call to this function, as a floating point number, based on the Win32 function QueryPerformanceCounter(). The resolution is typically better than one microsecond.', 'telegram_id': 9281509, 'username': 'varenik'}, {'_id': '656ccd2e3969c6770b280364', 'about': 'On Unix, return the current processor time as a floating point number expressed in seconds. The precision, and in fact the very definition of the meaning of “processor time”, depends on that of the C function of the same name. On Windows, this function returns wall-clock seconds elapsed since the first call to this function, as a floating point number, based on the Win32 function QueryPerformanceCounter(). The resolution is typically better than one microsecond.', 'telegram_id': 9281510, 'username': 'varenik'}, {'_id': '656ccd2e3969c6770b280365', 'about': 'On Unix, return the current processor time as a floating point number expressed in seconds. The precision, and in fact the very definition of the meaning of “processor time”, depends on that of the C function of the same name. On Windows, this function returns wall-clock seconds elapsed since the first call to this function, as a floating point number, based on the Win32 function QueryPerformanceCounter(). The resolution is typically better than one microsecond.', 'telegram_id': 9281511, 'username': 'varenik'}, {'_id': '656ccd2e3969c6770b280366', 'about': 'On Unix, return the current processor time as a floating point number expressed in seconds. The precision, and in fact the very definition of the meaning of “processor time”, depends on that of the C function of the same name. On Windows, this function returns wall-clock seconds elapsed since the first call to this function, as a floating point number, based on the Win32 function QueryPerformanceCounter(). The resolution is typically better than one microsecond.', 'telegram_id': 9281512, 'username': 'varenik'}, {'_id': '656ccd2e3969c6770b280367', 'about': 'On Unix, return the current processor time as a floating point number expressed in seconds. The precision, and in fact the very definition of the meaning of “processor time”, depends on that of the C function of the same name. On Windows, this function returns wall-clock seconds elapsed since the first call to this function, as a floating point number, based on the Win32 function QueryPerformanceCounter(). The resolution is typically better than one microsecond.', 'telegram_id': 9281513, 'username': 'varenik'}, {'_id': '656ccd2e3969c6770b280368', 'about': 'On Unix, return the current processor time as a floating point number expressed in seconds. The precision, and in fact the very definition of the meaning of “processor time”, depends on that of the C function of the same name. On Windows, this function returns wall-clock seconds elapsed since the first call to this function, as a floating point number, based on the Win32 function QueryPerformanceCounter(). The resolution is typically better than one microsecond.', 'telegram_id': 9281514, 'username': 'varenik'}, {'_id': '656ccd2e3969c6770b280369', 'about': 'On Unix, return the current processor time as a floating point number expressed in seconds. The precision, and in fact the very definition of the meaning of “processor time”, depends on that of the C function of the same name. On Windows, this function returns wall-clock seconds elapsed since the first call to this function, as a floating point number, based on the Win32 function QueryPerformanceCounter(). The resolution is typically better than one microsecond.', 'telegram_id': 9281515, 'username': 'varenik'}, {'_id': '656ccd2e3969c6770b28036a', 'about': 'On Unix, return the current processor time as a floating point number expressed in seconds. The precision, and in fact the very definition of the meaning of “processor time”, depends on that of the C function of the same name. On Windows, this function returns wall-clock seconds elapsed since the first call to this function, as a floating point number, based on the Win32 function QueryPerformanceCounter(). The resolution is typically better than one microsecond.', 'telegram_id': 9281516, 'username': 'varenik'}, {'_id': '656ccd2e3969c6770b28036b', 'about': 'On Unix, return the current processor time as a floating point number expressed in seconds. The precision, and in fact the very definition of the meaning of “processor time”, depends on that of the C function of the same name. On Windows, this function returns wall-clock seconds elapsed since the first call to this function, as a floating point number, based on the Win32 function QueryPerformanceCounter(). The resolution is typically better than one microsecond.', 'telegram_id': 9281517, 'username': 'varenik'}, {'_id': '656ccd2e3969c6770b28036c', 'about': 'On Unix, return the current processor time as a floating point number expressed in seconds. The precision, and in fact the very definition of the meaning of “processor time”, depends on that of the C function of the same name. On Windows, this function returns wall-clock seconds elapsed since the first call to this function, as a floating point number, based on the Win32 function QueryPerformanceCounter(). The resolution is typically better than one microsecond.', 'telegram_id': 9281518, 'username': 'varenik'}, {'_id': '656ccd2e3969c6770b28036d', 'about': 'On Unix, return the current processor time as a floating point number expressed in seconds. The precision, and in fact the very definition of the meaning of “processor time”, depends on that of the C function of the same name. On Windows, this function returns wall-clock seconds elapsed since the first call to this function, as a floating point number, based on the Win32 function QueryPerformanceCounter(). The resolution is typically better than one microsecond.', 'telegram_id': 9281519, 'username': 'varenik'}, {'_id': '656ccd2e3969c6770b28036e', 'about': 'On Unix, return the current processor time as a floating point number expressed in seconds. The precision, and in fact the very definition of the meaning of “processor time”, depends on that of the C function of the same name. On Windows, this function returns wall-clock seconds elapsed since the first call to this function, as a floating point number, based on the Win32 function QueryPerformanceCounter(). The resolution is typically better than one microsecond.', 'telegram_id': 9281520, 'username': 'varenik'}, {'_id': '656ccd2e3969c6770b28036f', 'about': 'On Unix, return the current processor time as a floating point number expressed in seconds. The precision, and in fact the very definition of the meaning of “processor time”, depends on that of the C function of the same name. On Windows, this function returns wall-clock seconds elapsed since the first call to this function, as a floating point number, based on the Win32 function QueryPerformanceCounter(). The resolution is typically better than one microsecond.', 'telegram_id': 9281521, 'username': 'varenik'}, {'_id': '656ccd2e3969c6770b280370', 'about': 'On Unix, return the current processor time as a floating point number expressed in seconds. The precision, and in fact the very definition of the meaning of “processor time”, depends on that of the C function of the same name. On Windows, this function returns wall-clock seconds elapsed since the first call to this function, as a floating point number, based on the Win32 function QueryPerformanceCounter(). The resolution is typically better than one microsecond.', 'telegram_id': 9281522, 'username': 'varenik'}, {'_id': '656ccd2e3969c6770b280371', 'about': 'On Unix, return the current processor time as a floating point number expressed in seconds. The precision, and in fact the very definition of the meaning of “processor time”, depends on that of the C function of the same name. On Windows, this function returns wall-clock seconds elapsed since the first call to this function, as a floating point number, based on the Win32 function QueryPerformanceCounter(). The resolution is typically better than one microsecond.', 'telegram_id': 9281523, 'username': 'varenik'}, {'_id': '656ccd2e3969c6770b280372', 'about': 'On Unix, return the current processor time as a floating point number expressed in seconds. The precision, and in fact the very definition of the meaning of “processor time”, depends on that of the C function of the same name. On Windows, this function returns wall-clock seconds elapsed since the first call to this function, as a floating point number, based on the Win32 function QueryPerformanceCounter(). The resolution is typically better than one microsecond.', 'telegram_id': 9281524, 'username': 'varenik'}, {'_id': '656ccd2e3969c6770b280373', 'about': 'On Unix, return the current processor time as a floating point number expressed in seconds. The precision, and in fact the very definition of the meaning of “processor time”, depends on that of the C function of the same name. On Windows, this function returns wall-clock seconds elapsed since the first call to this function, as a floating point number, based on the Win32 function QueryPerformanceCounter(). The resolution is typically better than one microsecond.', 'telegram_id': 9281525, 'username': 'varenik'}, {'_id': '656ccd2e3969c6770b280374', 'about': 'On Unix, return the current processor time as a floating point number expressed in seconds. The precision, and in fact the very definition of the meaning of “processor time”, depends on that of the C function of the same name. On Windows, this function returns wall-clock seconds elapsed since the first call to this function, as a floating point number, based on the Win32 function QueryPerformanceCounter(). The resolution is typically better than one microsecond.', 'telegram_id': 9281526, 'username': 'varenik'}, {'_id': '656ccd2e3969c6770b280375', 'about': 'On Unix, return the current processor time as a floating point number expressed in seconds. The precision, and in fact the very definition of the meaning of “processor time”, depends on that of the C function of the same name. On Windows, this function returns wall-clock seconds elapsed since the first call to this function, as a floating point number, based on the Win32 function QueryPerformanceCounter(). The resolution is typically better than one microsecond.', 'telegram_id': 9281527, 'username': 'varenik'}, {'_id': '656ccd2e3969c6770b280376', 'about': 'On Unix, return the current processor time as a floating point number expressed in seconds. The precision, and in fact the very definition of the meaning of “processor time”, depends on that of the C function of the same name. On Windows, this function returns wall-clock seconds elapsed since the first call to this function, as a floating point number, based on the Win32 function QueryPerformanceCounter(). The resolution is typically better than one microsecond.', 'telegram_id': 9281528, 'username': 'varenik'}, {'_id': '656ccd2e3969c6770b280377', 'about': 'On Unix, return the current processor time as a floating point number expressed in seconds. The precision, and in fact the very definition of the meaning of “processor time”, depends on that of the C function of the same name. On Windows, this function returns wall-clock seconds elapsed since the first call to this function, as a floating point number, based on the Win32 function QueryPerformanceCounter(). The resolution is typically better than one microsecond.', 'telegram_id': 9281529, 'username': 'varenik'}, {'_id': '656ccd2e3969c6770b280378', 'about': 'On Unix, return the current processor time as a floating point number expressed in seconds. The precision, and in fact the very definition of the meaning of “processor time”, depends on that of the C function of the same name. On Windows, this function returns wall-clock seconds elapsed since the first call to this function, as a floating point number, based on the Win32 function QueryPerformanceCounter(). The resolution is typically better than one microsecond.', 'telegram_id': 9281530, 'username': 'varenik'}, {'_id': '656ccd2e3969c6770b280379', 'about': 'On Unix, return the current processor time as a floating point number expressed in seconds. The precision, and in fact the very definition of the meaning of “processor time”, depends on that of the C function of the same name. On Windows, this function returns wall-clock seconds elapsed since the first call to this function, as a floating point number, based on the Win32 function QueryPerformanceCounter(). The resolution is typically better than one microsecond.', 'telegram_id': 9281531, 'username': 'varenik'}, {'_id': '656ccd2e3969c6770b28037a', 'about': 'On Unix, return the current processor time as a floating point number expressed in seconds. The precision, and in fact the very definition of the meaning of “processor time”, depends on that of the C function of the same name. On Windows, this function returns wall-clock seconds elapsed since the first call to this function, as a floating point number, based on the Win32 function QueryPerformanceCounter(). The resolution is typically better than one microsecond.', 'telegram_id': 9281532, 'username': 'varenik'}, {'_id': '656ccd2e3969c6770b28037b', 'about': 'On Unix, return the current processor time as a floating point number expressed in seconds. The precision, and in fact the very definition of the meaning of “processor time”, depends on that of the C function of the same name. On Windows, this function returns wall-clock seconds elapsed since the first call to this function, as a floating point number, based on the Win32 function QueryPerformanceCounter(). The resolution is typically better than one microsecond.', 'telegram_id': 9281533, 'username': 'varenik'}, {'_id': '656ccd2e3969c6770b28037c', 'about': 'On Unix, return the current processor time as a floating point number expressed in seconds. The precision, and in fact the very definition of the meaning of “processor time”, depends on that of the C function of the same name. On Windows, this function returns wall-clock seconds elapsed since the first call to this function, as a floating point number, based on the Win32 function QueryPerformanceCounter(). The resolution is typically better than one microsecond.', 'telegram_id': 9281534, 'username': 'varenik'}, {'_id': '656ccd2e3969c6770b28037d', 'about': 'On Unix, return the current processor time as a floating point number expressed in seconds. The precision, and in fact the very definition of the meaning of “processor time”, depends on that of the C function of the same name. On Windows, this function returns wall-clock seconds elapsed since the first call to this function, as a floating point number, based on the Win32 function QueryPerformanceCounter(). The resolution is typically better than one microsecond.', 'telegram_id': 9281535, 'username': 'varenik'}, {'_id': '656ccd2e3969c6770b28037e', 'about': 'On Unix, return the current processor time as a floating point number expressed in seconds. The precision, and in fact the very definition of the meaning of “processor time”, depends on that of the C function of the same name. On Windows, this function returns wall-clock seconds elapsed since the first call to this function, as a floating point number, based on the Win32 function QueryPerformanceCounter(). The resolution is typically better than one microsecond.', 'telegram_id': 9281536, 'username': 'varenik'}, {'_id': '656ccd2e3969c6770b28037f', 'about': 'On Unix, return the current processor time as a floating point number expressed in seconds. The precision, and in fact the very definition of the meaning of “processor time”, depends on that of the C function of the same name. On Windows, this function returns wall-clock seconds elapsed since the first call to this function, as a floating point number, based on the Win32 function QueryPerformanceCounter(). The resolution is typically better than one microsecond.', 'telegram_id': 9281537, 'username': 'varenik'}, {'_id': '656ccd2e3969c6770b280380', 'about': 'On Unix, return the current processor time as a floating point number expressed in seconds. The precision, and in fact the very definition of the meaning of “processor time”, depends on that of the C function of the same name. On Windows, this function returns wall-clock seconds elapsed since the first call to this function, as a floating point number, based on the Win32 function QueryPerformanceCounter(). The resolution is typically better than one microsecond.', 'telegram_id': 9281538, 'username': 'varenik'}, {'_id': '656ccd2e3969c6770b280381', 'about': 'On Unix, return the current processor time as a floating point number expressed in seconds. The precision, and in fact the very definition of the meaning of “processor time”, depends on that of the C function of the same name. On Windows, this function returns wall-clock seconds elapsed since the first call to this function, as a floating point number, based on the Win32 function QueryPerformanceCounter(). The resolution is typically better than one microsecond.', 'telegram_id': 9281539, 'username': 'varenik'}, {'_id': '656ccd2e3969c6770b280382', 'about': 'On Unix, return the current processor time as a floating point number expressed in seconds. The precision, and in fact the very definition of the meaning of “processor time”, depends on that of the C function of the same name. On Windows, this function returns wall-clock seconds elapsed since the first call to this function, as a floating point number, based on the Win32 function QueryPerformanceCounter(). The resolution is typically better than one microsecond.', 'telegram_id': 9281540, 'username': 'varenik'}, {'_id': '656ccd2e3969c6770b280383', 'about': 'On Unix, return the current processor time as a floating point number expressed in seconds. The precision, and in fact the very definition of the meaning of “processor time”, depends on that of the C function of the same name. On Windows, this function returns wall-clock seconds elapsed since the first call to this function, as a floating point number, based on the Win32 function QueryPerformanceCounter(). The resolution is typically better than one microsecond.', 'telegram_id': 9281541, 'username': 'varenik'}, {'_id': '656ccd2e3969c6770b280384', 'about': 'On Unix, return the current processor time as a floating point number expressed in seconds. The precision, and in fact the very definition of the meaning of “processor time”, depends on that of the C function of the same name. On Windows, this function returns wall-clock seconds elapsed since the first call to this function, as a floating point number, based on the Win32 function QueryPerformanceCounter(). The resolution is typically better than one microsecond.', 'telegram_id': 9281542, 'username': 'varenik'}, {'_id': '656ccd2e3969c6770b280385', 'about': 'On Unix, return the current processor time as a floating point number expressed in seconds. The precision, and in fact the very definition of the meaning of “processor time”, depends on that of the C function of the same name. On Windows, this function returns wall-clock seconds elapsed since the first call to this function, as a floating point number, based on the Win32 function QueryPerformanceCounter(). The resolution is typically better than one microsecond.', 'telegram_id': 9281543, 'username': 'varenik'}, {'_id': '656ccd2e3969c6770b280386', 'about': 'On Unix, return the current processor time as a floating point number expressed in seconds. The precision, and in fact the very definition of the meaning of “processor time”, depends on that of the C function of the same name. On Windows, this function returns wall-clock seconds elapsed since the first call to this function, as a floating point number, based on the Win32 function QueryPerformanceCounter(). The resolution is typically better than one microsecond.', 'telegram_id': 9281544, 'username': 'varenik'}, {'_id': '656ccd2e3969c6770b280387', 'about': 'On Unix, return the current processor time as a floating point number expressed in seconds. The precision, and in fact the very definition of the meaning of “processor time”, depends on that of the C function of the same name. On Windows, this function returns wall-clock seconds elapsed since the first call to this function, as a floating point number, based on the Win32 function QueryPerformanceCounter(). The resolution is typically better than one microsecond.', 'telegram_id': 9281545, 'username': 'varenik'}, {'_id': '656ccd2e3969c6770b280388', 'about': 'On Unix, return the current processor time as a floating point number expressed in seconds. The precision, and in fact the very definition of the meaning of “processor time”, depends on that of the C function of the same name. On Windows, this function returns wall-clock seconds elapsed since the first call to this function, as a floating point number, based on the Win32 function QueryPerformanceCounter(). The resolution is typically better than one microsecond.', 'telegram_id': 9281546, 'username': 'varenik'}, {'_id': '656ccd2e3969c6770b280389', 'about': 'On Unix, return the current processor time as a floating point number expressed in seconds. The precision, and in fact the very definition of the meaning of “processor time”, depends on that of the C function of the same name. On Windows, this function returns wall-clock seconds elapsed since the first call to this function, as a floating point number, based on the Win32 function QueryPerformanceCounter(). The resolution is typically better than one microsecond.', 'telegram_id': 9281547, 'username': 'varenik'}, {'_id': '656ccd2e3969c6770b28038a', 'about': 'On Unix, return the current processor time as a floating point number expressed in seconds. The precision, and in fact the very definition of the meaning of “processor time”, depends on that of the C function of the same name. On Windows, this function returns wall-clock seconds elapsed since the first call to this function, as a floating point number, based on the Win32 function QueryPerformanceCounter(). The resolution is typically better than one microsecond.', 'telegram_id': 9281548, 'username': 'varenik'}, {'_id': '656ccd2e3969c6770b28038b', 'about': 'On Unix, return the current processor time as a floating point number expressed in seconds. The precision, and in fact the very definition of the meaning of “processor time”, depends on that of the C function of the same name. On Windows, this function returns wall-clock seconds elapsed since the first call to this function, as a floating point number, based on the Win32 function QueryPerformanceCounter(). The resolution is typically better than one microsecond.', 'telegram_id': 9281549, 'username': 'varenik'}, {'_id': '656ccd2e3969c6770b28038c', 'about': 'On Unix, return the current processor time as a floating point number expressed in seconds. The precision, and in fact the very definition of the meaning of “processor time”, depends on that of the C function of the same name. On Windows, this function returns wall-clock seconds elapsed since the first call to this function, as a floating point number, based on the Win32 function QueryPerformanceCounter(). The resolution is typically better than one microsecond.', 'telegram_id': 9281550, 'username': 'varenik'}, {'_id': '656ccd2e3969c6770b28038d', 'about': 'On Unix, return the current processor time as a floating point number expressed in seconds. The precision, and in fact the very definition of the meaning of “processor time”, depends on that of the C function of the same name. On Windows, this function returns wall-clock seconds elapsed since the first call to this function, as a floating point number, based on the Win32 function QueryPerformanceCounter(). The resolution is typically better than one microsecond.', 'telegram_id': 9281551, 'username': 'varenik'}, {'_id': '656ccd2e3969c6770b28038e', 'about': 'On Unix, return the current processor time as a floating point number expressed in seconds. The precision, and in fact the very definition of the meaning of “processor time”, depends on that of the C function of the same name. On Windows, this function returns wall-clock seconds elapsed since the first call to this function, as a floating point number, based on the Win32 function QueryPerformanceCounter(). The resolution is typically better than one microsecond.', 'telegram_id': 9281552, 'username': 'varenik'}, {'_id': '656ccd2e3969c6770b28038f', 'about': 'On Unix, return the current processor time as a floating point number expressed in seconds. The precision, and in fact the very definition of the meaning of “processor time”, depends on that of the C function of the same name. On Windows, this function returns wall-clock seconds elapsed since the first call to this function, as a floating point number, based on the Win32 function QueryPerformanceCounter(). The resolution is typically better than one microsecond.', 'telegram_id': 9281553, 'username': 'varenik'}, {'_id': '656ccd2e3969c6770b280390', 'about': 'On Unix, return the current processor time as a floating point number expressed in seconds. The precision, and in fact the very definition of the meaning of “processor time”, depends on that of the C function of the same name. On Windows, this function returns wall-clock seconds elapsed since the first call to this function, as a floating point number, based on the Win32 function QueryPerformanceCounter(). The resolution is typically better than one microsecond.', 'telegram_id': 9281554, 'username': 'varenik'}, {'_id': '656ccd2e3969c6770b280391', 'about': 'On Unix, return the current processor time as a floating point number expressed in seconds. The precision, and in fact the very definition of the meaning of “processor time”, depends on that of the C function of the same name. On Windows, this function returns wall-clock seconds elapsed since the first call to this function, as a floating point number, based on the Win32 function QueryPerformanceCounter(). The resolution is typically better than one microsecond.', 'telegram_id': 9281555, 'username': 'varenik'}, {'_id': '656ccd2e3969c6770b280392', 'about': 'On Unix, return the current processor time as a floating point number expressed in seconds. The precision, and in fact the very definition of the meaning of “processor time”, depends on that of the C function of the same name. On Windows, this function returns wall-clock seconds elapsed since the first call to this function, as a floating point number, based on the Win32 function QueryPerformanceCounter(). The resolution is typically better than one microsecond.', 'telegram_id': 9281556, 'username': 'varenik'}, {'_id': '656ccd2e3969c6770b280393', 'about': 'On Unix, return the current processor time as a floating point number expressed in seconds. The precision, and in fact the very definition of the meaning of “processor time”, depends on that of the C function of the same name. On Windows, this function returns wall-clock seconds elapsed since the first call to this function, as a floating point number, based on the Win32 function QueryPerformanceCounter(). The resolution is typically better than one microsecond.', 'telegram_id': 9281557, 'username': 'varenik'}, {'_id': '656ccd2e3969c6770b280394', 'about': 'On Unix, return the current processor time as a floating point number expressed in seconds. The precision, and in fact the very definition of the meaning of “processor time”, depends on that of the C function of the same name. On Windows, this function returns wall-clock seconds elapsed since the first call to this function, as a floating point number, based on the Win32 function QueryPerformanceCounter(). The resolution is typically better than one microsecond.', 'telegram_id': 9281558, 'username': 'varenik'}, {'_id': '656ccd2e3969c6770b280395', 'about': 'On Unix, return the current processor time as a floating point number expressed in seconds. The precision, and in fact the very definition of the meaning of “processor time”, depends on that of the C function of the same name. On Windows, this function returns wall-clock seconds elapsed since the first call to this function, as a floating point number, based on the Win32 function QueryPerformanceCounter(). The resolution is typically better than one microsecond.', 'telegram_id': 9281559, 'username': 'varenik'}, {'_id': '656ccd2e3969c6770b280396', 'about': 'On Unix, return the current processor time as a floating point number expressed in seconds. The precision, and in fact the very definition of the meaning of “processor time”, depends on that of the C function of the same name. On Windows, this function returns wall-clock seconds elapsed since the first call to this function, as a floating point number, based on the Win32 function QueryPerformanceCounter(). The resolution is typically better than one microsecond.', 'telegram_id': 9281560, 'username': 'varenik'}, {'_id': '656ccd2e3969c6770b280397', 'about': 'On Unix, return the current processor time as a floating point number expressed in seconds. The precision, and in fact the very definition of the meaning of “processor time”, depends on that of the C function of the same name. On Windows, this function returns wall-clock seconds elapsed since the first call to this function, as a floating point number, based on the Win32 function QueryPerformanceCounter(). The resolution is typically better than one microsecond.', 'telegram_id': 9281561, 'username': 'varenik'}, {'_id': '656ccd2e3969c6770b280398', 'about': 'On Unix, return the current processor time as a floating point number expressed in seconds. The precision, and in fact the very definition of the meaning of “processor time”, depends on that of the C function of the same name. On Windows, this function returns wall-clock seconds elapsed since the first call to this function, as a floating point number, based on the Win32 function QueryPerformanceCounter(). The resolution is typically better than one microsecond.', 'telegram_id': 9281562, 'username': 'varenik'}, {'_id': '656ccd2e3969c6770b280399', 'about': 'On Unix, return the current processor time as a floating point number expressed in seconds. The precision, and in fact the very definition of the meaning of “processor time”, depends on that of the C function of the same name. On Windows, this function returns wall-clock seconds elapsed since the first call to this function, as a floating point number, based on the Win32 function QueryPerformanceCounter(). The resolution is typically better than one microsecond.', 'telegram_id': 9281563, 'username': 'varenik'}, {'_id': '656ccd2e3969c6770b28039a', 'about': 'On Unix, return the current processor time as a floating point number expressed in seconds. The precision, and in fact the very definition of the meaning of “processor time”, depends on that of the C function of the same name. On Windows, this function returns wall-clock seconds elapsed since the first call to this function, as a floating point number, based on the Win32 function QueryPerformanceCounter(). The resolution is typically better than one microsecond.', 'telegram_id': 9281564, 'username': 'varenik'}, {'_id': '656ccd2e3969c6770b28039b', 'about': 'On Unix, return the current processor time as a floating point number expressed in seconds. The precision, and in fact the very definition of the meaning of “processor time”, depends on that of the C function of the same name. On Windows, this function returns wall-clock seconds elapsed since the first call to this function, as a floating point number, based on the Win32 function QueryPerformanceCounter(). The resolution is typically better than one microsecond.', 'telegram_id': 9281565, 'username': 'varenik'}, {'_id': '656ccd2e3969c6770b28039c', 'about': 'On Unix, return the current processor time as a floating point number expressed in seconds. The precision, and in fact the very definition of the meaning of “processor time”, depends on that of the C function of the same name. On Windows, this function returns wall-clock seconds elapsed since the first call to this function, as a floating point number, based on the Win32 function QueryPerformanceCounter(). The resolution is typically better than one microsecond.', 'telegram_id': 9281566, 'username': 'varenik'}, {'_id': '656ccd2e3969c6770b28039d', 'about': 'On Unix, return the current processor time as a floating point number expressed in seconds. The precision, and in fact the very definition of the meaning of “processor time”, depends on that of the C function of the same name. On Windows, this function returns wall-clock seconds elapsed since the first call to this function, as a floating point number, based on the Win32 function QueryPerformanceCounter(). The resolution is typically better than one microsecond.', 'telegram_id': 9281567, 'username': 'varenik'}, {'_id': '656ccd2e3969c6770b28039e', 'about': 'On Unix, return the current processor time as a floating point number expressed in seconds. The precision, and in fact the very definition of the meaning of “processor time”, depends on that of the C function of the same name. On Windows, this function returns wall-clock seconds elapsed since the first call to this function, as a floating point number, based on the Win32 function QueryPerformanceCounter(). The resolution is typically better than one microsecond.', 'telegram_id': 9281568, 'username': 'varenik'}, {'_id': '656ccd2e3969c6770b28039f', 'about': 'On Unix, return the current processor time as a floating point number expressed in seconds. The precision, and in fact the very definition of the meaning of “processor time”, depends on that of the C function of the same name. On Windows, this function returns wall-clock seconds elapsed since the first call to this function, as a floating point number, based on the Win32 function QueryPerformanceCounter(). The resolution is typically better than one microsecond.', 'telegram_id': 9281569, 'username': 'varenik'}, {'_id': '656ccd2e3969c6770b2803a0', 'about': 'On Unix, return the current processor time as a floating point number expressed in seconds. The precision, and in fact the very definition of the meaning of “processor time”, depends on that of the C function of the same name. On Windows, this function returns wall-clock seconds elapsed since the first call to this function, as a floating point number, based on the Win32 function QueryPerformanceCounter(). The resolution is typically better than one microsecond.', 'telegram_id': 9281570, 'username': 'varenik'}, {'_id': '656ccd2e3969c6770b2803a1', 'about': 'On Unix, return the current processor time as a floating point number expressed in seconds. The precision, and in fact the very definition of the meaning of “processor time”, depends on that of the C function of the same name. On Windows, this function returns wall-clock seconds elapsed since the first call to this function, as a floating point number, based on the Win32 function QueryPerformanceCounter(). The resolution is typically better than one microsecond.', 'telegram_id': 9281571, 'username': 'varenik'}, {'_id': '656ccd2e3969c6770b2803a2', 'about': 'On Unix, return the current processor time as a floating point number expressed in seconds. The precision, and in fact the very definition of the meaning of “processor time”, depends on that of the C function of the same name. On Windows, this function returns wall-clock seconds elapsed since the first call to this function, as a floating point number, based on the Win32 function QueryPerformanceCounter(). The resolution is typically better than one microsecond.', 'telegram_id': 9281572, 'username': 'varenik'}, {'_id': '656ccd2e3969c6770b2803a3', 'about': 'On Unix, return the current processor time as a floating point number expressed in seconds. The precision, and in fact the very definition of the meaning of “processor time”, depends on that of the C function of the same name. On Windows, this function returns wall-clock seconds elapsed since the first call to this function, as a floating point number, based on the Win32 function QueryPerformanceCounter(). The resolution is typically better than one microsecond.', 'telegram_id': 9281573, 'username': 'varenik'}, {'_id': '656ccd2e3969c6770b2803a4', 'about': 'On Unix, return the current processor time as a floating point number expressed in seconds. The precision, and in fact the very definition of the meaning of “processor time”, depends on that of the C function of the same name. On Windows, this function returns wall-clock seconds elapsed since the first call to this function, as a floating point number, based on the Win32 function QueryPerformanceCounter(). The resolution is typically better than one microsecond.', 'telegram_id': 9281574, 'username': 'varenik'}, {'_id': '656ccd2e3969c6770b2803a5', 'about': 'On Unix, return the current processor time as a floating point number expressed in seconds. The precision, and in fact the very definition of the meaning of “processor time”, depends on that of the C function of the same name. On Windows, this function returns wall-clock seconds elapsed since the first call to this function, as a floating point number, based on the Win32 function QueryPerformanceCounter(). The resolution is typically better than one microsecond.', 'telegram_id': 9281575, 'username': 'varenik'}, {'_id': '656ccd2e3969c6770b2803a6', 'about': 'On Unix, return the current processor time as a floating point number expressed in seconds. The precision, and in fact the very definition of the meaning of “processor time”, depends on that of the C function of the same name. On Windows, this function returns wall-clock seconds elapsed since the first call to this function, as a floating point number, based on the Win32 function QueryPerformanceCounter(). The resolution is typically better than one microsecond.', 'telegram_id': 9281576, 'username': 'varenik'}, {'_id': '656ccd2e3969c6770b2803a7', 'about': 'On Unix, return the current processor time as a floating point number expressed in seconds. The precision, and in fact the very definition of the meaning of “processor time”, depends on that of the C function of the same name. On Windows, this function returns wall-clock seconds elapsed since the first call to this function, as a floating point number, based on the Win32 function QueryPerformanceCounter(). The resolution is typically better than one microsecond.', 'telegram_id': 9281577, 'username': 'varenik'}, {'_id': '656ccd2e3969c6770b2803a8', 'about': 'On Unix, return the current processor time as a floating point number expressed in seconds. The precision, and in fact the very definition of the meaning of “processor time”, depends on that of the C function of the same name. On Windows, this function returns wall-clock seconds elapsed since the first call to this function, as a floating point number, based on the Win32 function QueryPerformanceCounter(). The resolution is typically better than one microsecond.', 'telegram_id': 9281578, 'username': 'varenik'}, {'_id': '656ccd2e3969c6770b2803a9', 'about': 'On Unix, return the current processor time as a floating point number expressed in seconds. The precision, and in fact the very definition of the meaning of “processor time”, depends on that of the C function of the same name. On Windows, this function returns wall-clock seconds elapsed since the first call to this function, as a floating point number, based on the Win32 function QueryPerformanceCounter(). The resolution is typically better than one microsecond.', 'telegram_id': 9281579, 'username': 'varenik'}, {'_id': '656ccd2e3969c6770b2803aa', 'about': 'On Unix, return the current processor time as a floating point number expressed in seconds. The precision, and in fact the very definition of the meaning of “processor time”, depends on that of the C function of the same name. On Windows, this function returns wall-clock seconds elapsed since the first call to this function, as a floating point number, based on the Win32 function QueryPerformanceCounter(). The resolution is typically better than one microsecond.', 'telegram_id': 9281580, 'username': 'varenik'}, {'_id': '656ccd2e3969c6770b2803ab', 'about': 'On Unix, return the current processor time as a floating point number expressed in seconds. The precision, and in fact the very definition of the meaning of “processor time”, depends on that of the C function of the same name. On Windows, this function returns wall-clock seconds elapsed since the first call to this function, as a floating point number, based on the Win32 function QueryPerformanceCounter(). The resolution is typically better than one microsecond.', 'telegram_id': 9281581, 'username': 'varenik'}, {'_id': '656ccd2e3969c6770b2803ac', 'about': 'On Unix, return the current processor time as a floating point number expressed in seconds. The precision, and in fact the very definition of the meaning of “processor time”, depends on that of the C function of the same name. On Windows, this function returns wall-clock seconds elapsed since the first call to this function, as a floating point number, based on the Win32 function QueryPerformanceCounter(). The resolution is typically better than one microsecond.', 'telegram_id': 9281582, 'username': 'varenik'}, {'_id': '656ccd2e3969c6770b2803ad', 'about': 'On Unix, return the current processor time as a floating point number expressed in seconds. The precision, and in fact the very definition of the meaning of “processor time”, depends on that of the C function of the same name. On Windows, this function returns wall-clock seconds elapsed since the first call to this function, as a floating point number, based on the Win32 function QueryPerformanceCounter(). The resolution is typically better than one microsecond.', 'telegram_id': 9281583, 'username': 'varenik'}, {'_id': '656ccd2e3969c6770b2803ae', 'about': 'On Unix, return the current processor time as a floating point number expressed in seconds. The precision, and in fact the very definition of the meaning of “processor time”, depends on that of the C function of the same name. On Windows, this function returns wall-clock seconds elapsed since the first call to this function, as a floating point number, based on the Win32 function QueryPerformanceCounter(). The resolution is typically better than one microsecond.', 'telegram_id': 9281584, 'username': 'varenik'}, {'_id': '656ccd2e3969c6770b2803af', 'about': 'On Unix, return the current processor time as a floating point number expressed in seconds. The precision, and in fact the very definition of the meaning of “processor time”, depends on that of the C function of the same name. On Windows, this function returns wall-clock seconds elapsed since the first call to this function, as a floating point number, based on the Win32 function QueryPerformanceCounter(). The resolution is typically better than one microsecond.', 'telegram_id': 9281585, 'username': 'varenik'}, {'_id': '656ccd2e3969c6770b2803b0', 'about': 'On Unix, return the current processor time as a floating point number expressed in seconds. The precision, and in fact the very definition of the meaning of “processor time”, depends on that of the C function of the same name. On Windows, this function returns wall-clock seconds elapsed since the first call to this function, as a floating point number, based on the Win32 function QueryPerformanceCounter(). The resolution is typically better than one microsecond.', 'telegram_id': 9281586, 'username': 'varenik'}, {'_id': '656ccd2e3969c6770b2803b1', 'about': 'On Unix, return the current processor time as a floating point number expressed in seconds. The precision, and in fact the very definition of the meaning of “processor time”, depends on that of the C function of the same name. On Windows, this function returns wall-clock seconds elapsed since the first call to this function, as a floating point number, based on the Win32 function QueryPerformanceCounter(). The resolution is typically better than one microsecond.', 'telegram_id': 9281587, 'username': 'varenik'}, {'_id': '656ccd2e3969c6770b2803b2', 'about': 'On Unix, return the current processor time as a floating point number expressed in seconds. The precision, and in fact the very definition of the meaning of “processor time”, depends on that of the C function of the same name. On Windows, this function returns wall-clock seconds elapsed since the first call to this function, as a floating point number, based on the Win32 function QueryPerformanceCounter(). The resolution is typically better than one microsecond.', 'telegram_id': 9281588, 'username': 'varenik'}, {'_id': '656ccd2e3969c6770b2803b3', 'about': 'On Unix, return the current processor time as a floating point number expressed in seconds. The precision, and in fact the very definition of the meaning of “processor time”, depends on that of the C function of the same name. On Windows, this function returns wall-clock seconds elapsed since the first call to this function, as a floating point number, based on the Win32 function QueryPerformanceCounter(). The resolution is typically better than one microsecond.', 'telegram_id': 9281589, 'username': 'varenik'}, {'_id': '656ccd2e3969c6770b2803b4', 'about': 'On Unix, return the current processor time as a floating point number expressed in seconds. The precision, and in fact the very definition of the meaning of “processor time”, depends on that of the C function of the same name. On Windows, this function returns wall-clock seconds elapsed since the first call to this function, as a floating point number, based on the Win32 function QueryPerformanceCounter(). The resolution is typically better than one microsecond.', 'telegram_id': 9281590, 'username': 'varenik'}, {'_id': '656ccd2e3969c6770b2803b5', 'about': 'On Unix, return the current processor time as a floating point number expressed in seconds. The precision, and in fact the very definition of the meaning of “processor time”, depends on that of the C function of the same name. On Windows, this function returns wall-clock seconds elapsed since the first call to this function, as a floating point number, based on the Win32 function QueryPerformanceCounter(). The resolution is typically better than one microsecond.', 'telegram_id': 9281591, 'username': 'varenik'}, {'_id': '656ccd2e3969c6770b2803b6', 'about': 'On Unix, return the current processor time as a floating point number expressed in seconds. The precision, and in fact the very definition of the meaning of “processor time”, depends on that of the C function of the same name. On Windows, this function returns wall-clock seconds elapsed since the first call to this function, as a floating point number, based on the Win32 function QueryPerformanceCounter(). The resolution is typically better than one microsecond.', 'telegram_id': 9281592, 'username': 'varenik'}, {'_id': '656ccd2e3969c6770b2803b7', 'about': 'On Unix, return the current processor time as a floating point number expressed in seconds. The precision, and in fact the very definition of the meaning of “processor time”, depends on that of the C function of the same name. On Windows, this function returns wall-clock seconds elapsed since the first call to this function, as a floating point number, based on the Win32 function QueryPerformanceCounter(). The resolution is typically better than one microsecond.', 'telegram_id': 9281593, 'username': 'varenik'}, {'_id': '656ccd2e3969c6770b2803b8', 'about': 'On Unix, return the current processor time as a floating point number expressed in seconds. The precision, and in fact the very definition of the meaning of “processor time”, depends on that of the C function of the same name. On Windows, this function returns wall-clock seconds elapsed since the first call to this function, as a floating point number, based on the Win32 function QueryPerformanceCounter(). The resolution is typically better than one microsecond.', 'telegram_id': 9281594, 'username': 'varenik'}, {'_id': '656ccd2e3969c6770b2803b9', 'about': 'On Unix, return the current processor time as a floating point number expressed in seconds. The precision, and in fact the very definition of the meaning of “processor time”, depends on that of the C function of the same name. On Windows, this function returns wall-clock seconds elapsed since the first call to this function, as a floating point number, based on the Win32 function QueryPerformanceCounter(). The resolution is typically better than one microsecond.', 'telegram_id': 9281595, 'username': 'varenik'}, {'_id': '656ccd2e3969c6770b2803ba', 'about': 'On Unix, return the current processor time as a floating point number expressed in seconds. The precision, and in fact the very definition of the meaning of “processor time”, depends on that of the C function of the same name. On Windows, this function returns wall-clock seconds elapsed since the first call to this function, as a floating point number, based on the Win32 function QueryPerformanceCounter(). The resolution is typically better than one microsecond.', 'telegram_id': 9281596, 'username': 'varenik'}]\n",
      "On average request takes:  0.002798154354095459\n"
     ]
    }
   ],
   "source": [
    "request = 'http://localhost:5052/users/patch/'\n",
    "extraction = 'http://localhost:5052/users'\n",
    "iteration_num = 1\n",
    "\n",
    "average_duration_alteration(request=request, extraction_request=extraction, method='PATCH', iterations=iteration_num)"
   ]
  },
  {
   "cell_type": "markdown",
   "metadata": {},
   "source": [
    "## Delete"
   ]
  },
  {
   "cell_type": "code",
   "execution_count": 11,
   "metadata": {},
   "outputs": [
    {
     "name": "stdout",
     "output_type": "stream",
     "text": [
      "On average request takes:  0.0022504135847091675\n"
     ]
    }
   ],
   "source": [
    "request = 'http://localhost:5052/users/delete/'\n",
    "extraction = 'http://localhost:5052/users'\n",
    "iteration_num = 1\n",
    "\n",
    "average_duration_alteration(request=request, extraction_request=extraction, method='DELETE', iterations=iteration_num)"
   ]
  },
  {
   "cell_type": "markdown",
   "metadata": {},
   "source": [
    "# Tests of SQL: PostgreSQL"
   ]
  },
  {
   "cell_type": "markdown",
   "metadata": {},
   "source": [
    "## Insert"
   ]
  },
  {
   "cell_type": "code",
   "execution_count": 74,
   "metadata": {},
   "outputs": [
    {
     "name": "stdout",
     "output_type": "stream",
     "text": [
      "On average request takes:  0.002069208645820618\n"
     ]
    }
   ],
   "source": [
    "request = 'http://localhost:5051/users/insert'\n",
    "requests_num = 10000\n",
    "\n",
    "average_duration(request=request, data_gen=iter(generate_user(requests_num)), method='POST', iterations=requests_num)"
   ]
  },
  {
   "cell_type": "markdown",
   "metadata": {},
   "source": [
    "## Extract"
   ]
  },
  {
   "cell_type": "code",
   "execution_count": 75,
   "metadata": {},
   "outputs": [
    {
     "name": "stdout",
     "output_type": "stream",
     "text": [
      "On average request takes:  0.07471869230270385\n"
     ]
    }
   ],
   "source": [
    "request = 'http://localhost:5051/users'\n",
    "requests_num = 100\n",
    "\n",
    "average_duration(request=request, data_gen=iter(generate_empty(requests_num)), method='GET', iterations=requests_num)"
   ]
  },
  {
   "cell_type": "markdown",
   "metadata": {},
   "source": [
    "## Update"
   ]
  },
  {
   "cell_type": "code",
   "execution_count": 76,
   "metadata": {},
   "outputs": [
    {
     "name": "stdout",
     "output_type": "stream",
     "text": [
      "On average request takes:  0.0023338288545608522\n"
     ]
    }
   ],
   "source": [
    "request = 'http://localhost:5051/users/patch/'\n",
    "extraction = 'http://localhost:5051/users'\n",
    "iteration_num = 1\n",
    "\n",
    "average_duration_alteration(request=request, extraction_request=extraction, method='PATCH', iterations=iteration_num)"
   ]
  },
  {
   "cell_type": "markdown",
   "metadata": {},
   "source": [
    "## Delete"
   ]
  },
  {
   "cell_type": "code",
   "execution_count": 77,
   "metadata": {},
   "outputs": [
    {
     "name": "stdout",
     "output_type": "stream",
     "text": [
      "On average request takes:  0.002528764867782593\n"
     ]
    }
   ],
   "source": [
    "request = 'http://localhost:5051/users/delete/'\n",
    "extraction = 'http://localhost:5051/users'\n",
    "iteration_num = 1\n",
    "\n",
    "average_duration_alteration(request=request, extraction_request=extraction, method='DELETE', iterations=iteration_num)"
   ]
  },
  {
   "cell_type": "markdown",
   "metadata": {},
   "source": [
    "# Results"
   ]
  },
  {
   "cell_type": "markdown",
   "metadata": {},
   "source": []
  }
 ],
 "metadata": {
  "kernelspec": {
   "display_name": "Python 3",
   "language": "python",
   "name": "python3"
  },
  "language_info": {
   "codemirror_mode": {
    "name": "ipython",
    "version": 3
   },
   "file_extension": ".py",
   "mimetype": "text/x-python",
   "name": "python",
   "nbconvert_exporter": "python",
   "pygments_lexer": "ipython3",
   "version": "3.11.6"
  }
 },
 "nbformat": 4,
 "nbformat_minor": 2
}
